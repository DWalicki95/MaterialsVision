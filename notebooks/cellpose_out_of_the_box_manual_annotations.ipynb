{
  "nbformat": 4,
  "nbformat_minor": 0,
  "metadata": {
    "colab": {
      "provenance": [],
      "gpuType": "T4",
      "machine_shape": "hm",
      "mount_file_id": "1awQd423L3Xs5eVMYaUeNOMQ435oEhxCX",
      "authorship_tag": "ABX9TyOl2N+Qbjvtty0l91ZxPF5L",
      "include_colab_link": true
    },
    "kernelspec": {
      "name": "python3",
      "display_name": "Python 3"
    },
    "language_info": {
      "name": "python"
    },
    "accelerator": "GPU"
  },
  "cells": [
    {
      "cell_type": "markdown",
      "metadata": {
        "id": "view-in-github",
        "colab_type": "text"
      },
      "source": [
        "<a href=\"https://colab.research.google.com/github/DWalicki95/MaterialsVision/blob/main/notebooks/cellpose_out_of_the_box_manual_annotations.ipynb\" target=\"_parent\"><img src=\"https://colab.research.google.com/assets/colab-badge.svg\" alt=\"Open In Colab\"/></a>"
      ]
    },
    {
      "cell_type": "markdown",
      "source": [
        "This notebook contains the code for evaluation of manually annotated\n",
        "artificial microstructure images. This allows us to understand how high values of metrics adopted for segmentation can reach.\n",
        "\n",
        "Code from `Model Evaluation Functions` is now implemented as a part of materials_vision repository."
      ],
      "metadata": {
        "id": "EZGTyVYzb81e"
      }
    },
    {
      "cell_type": "code",
      "source": [
        "!git clone https://github.com/DWalicki95/MaterialsVision.git"
      ],
      "metadata": {
        "id": "dfObPsIILpeG",
        "colab": {
          "base_uri": "https://localhost:8080/"
        },
        "outputId": "98ed4e16-68f3-428e-e830-ff5ae2b79569"
      },
      "execution_count": null,
      "outputs": [
        {
          "output_type": "stream",
          "name": "stdout",
          "text": [
            "fatal: destination path 'MaterialsVision' already exists and is not an empty directory.\n"
          ]
        }
      ]
    },
    {
      "cell_type": "code",
      "source": [
        "!pip install cellpose"
      ],
      "metadata": {
        "colab": {
          "base_uri": "https://localhost:8080/"
        },
        "id": "jEtFnax6Rq_i",
        "outputId": "d31eaefd-f13e-474e-bf91-e7d8def7540c"
      },
      "execution_count": null,
      "outputs": [
        {
          "output_type": "stream",
          "name": "stdout",
          "text": [
            "Collecting cellpose\n",
            "  Downloading cellpose-4.0.4-py3-none-any.whl.metadata (22 kB)\n",
            "Requirement already satisfied: numpy>=1.20.0 in /usr/local/lib/python3.11/dist-packages (from cellpose) (2.0.2)\n",
            "Requirement already satisfied: scipy in /usr/local/lib/python3.11/dist-packages (from cellpose) (1.15.3)\n",
            "Requirement already satisfied: natsort in /usr/local/lib/python3.11/dist-packages (from cellpose) (8.4.0)\n",
            "Requirement already satisfied: tifffile in /usr/local/lib/python3.11/dist-packages (from cellpose) (2025.6.11)\n",
            "Requirement already satisfied: tqdm in /usr/local/lib/python3.11/dist-packages (from cellpose) (4.67.1)\n",
            "Requirement already satisfied: torch>=1.6 in /usr/local/lib/python3.11/dist-packages (from cellpose) (2.6.0+cu124)\n",
            "Requirement already satisfied: torchvision in /usr/local/lib/python3.11/dist-packages (from cellpose) (0.21.0+cu124)\n",
            "Requirement already satisfied: opencv-python-headless in /usr/local/lib/python3.11/dist-packages (from cellpose) (4.11.0.86)\n",
            "Collecting fastremap (from cellpose)\n",
            "  Downloading fastremap-1.16.1-cp311-cp311-manylinux_2_17_x86_64.manylinux2014_x86_64.whl.metadata (10 kB)\n",
            "Collecting imagecodecs (from cellpose)\n",
            "  Downloading imagecodecs-2025.3.30-cp311-cp311-manylinux_2_17_x86_64.manylinux2014_x86_64.whl.metadata (20 kB)\n",
            "Collecting roifile (from cellpose)\n",
            "  Downloading roifile-2025.5.10-py3-none-any.whl.metadata (5.9 kB)\n",
            "Collecting fill-voids (from cellpose)\n",
            "  Downloading fill_voids-2.1.0-cp311-cp311-manylinux_2_17_x86_64.manylinux2014_x86_64.whl.metadata (6.0 kB)\n",
            "Collecting segment_anything (from cellpose)\n",
            "  Downloading segment_anything-1.0-py3-none-any.whl.metadata (487 bytes)\n",
            "Requirement already satisfied: filelock in /usr/local/lib/python3.11/dist-packages (from torch>=1.6->cellpose) (3.18.0)\n",
            "Requirement already satisfied: typing-extensions>=4.10.0 in /usr/local/lib/python3.11/dist-packages (from torch>=1.6->cellpose) (4.14.0)\n",
            "Requirement already satisfied: networkx in /usr/local/lib/python3.11/dist-packages (from torch>=1.6->cellpose) (3.5)\n",
            "Requirement already satisfied: jinja2 in /usr/local/lib/python3.11/dist-packages (from torch>=1.6->cellpose) (3.1.6)\n",
            "Requirement already satisfied: fsspec in /usr/local/lib/python3.11/dist-packages (from torch>=1.6->cellpose) (2025.3.2)\n",
            "Collecting nvidia-cuda-nvrtc-cu12==12.4.127 (from torch>=1.6->cellpose)\n",
            "  Downloading nvidia_cuda_nvrtc_cu12-12.4.127-py3-none-manylinux2014_x86_64.whl.metadata (1.5 kB)\n",
            "Collecting nvidia-cuda-runtime-cu12==12.4.127 (from torch>=1.6->cellpose)\n",
            "  Downloading nvidia_cuda_runtime_cu12-12.4.127-py3-none-manylinux2014_x86_64.whl.metadata (1.5 kB)\n",
            "Collecting nvidia-cuda-cupti-cu12==12.4.127 (from torch>=1.6->cellpose)\n",
            "  Downloading nvidia_cuda_cupti_cu12-12.4.127-py3-none-manylinux2014_x86_64.whl.metadata (1.6 kB)\n",
            "Collecting nvidia-cudnn-cu12==9.1.0.70 (from torch>=1.6->cellpose)\n",
            "  Downloading nvidia_cudnn_cu12-9.1.0.70-py3-none-manylinux2014_x86_64.whl.metadata (1.6 kB)\n",
            "Collecting nvidia-cublas-cu12==12.4.5.8 (from torch>=1.6->cellpose)\n",
            "  Downloading nvidia_cublas_cu12-12.4.5.8-py3-none-manylinux2014_x86_64.whl.metadata (1.5 kB)\n",
            "Collecting nvidia-cufft-cu12==11.2.1.3 (from torch>=1.6->cellpose)\n",
            "  Downloading nvidia_cufft_cu12-11.2.1.3-py3-none-manylinux2014_x86_64.whl.metadata (1.5 kB)\n",
            "Collecting nvidia-curand-cu12==10.3.5.147 (from torch>=1.6->cellpose)\n",
            "  Downloading nvidia_curand_cu12-10.3.5.147-py3-none-manylinux2014_x86_64.whl.metadata (1.5 kB)\n",
            "Collecting nvidia-cusolver-cu12==11.6.1.9 (from torch>=1.6->cellpose)\n",
            "  Downloading nvidia_cusolver_cu12-11.6.1.9-py3-none-manylinux2014_x86_64.whl.metadata (1.6 kB)\n",
            "Collecting nvidia-cusparse-cu12==12.3.1.170 (from torch>=1.6->cellpose)\n",
            "  Downloading nvidia_cusparse_cu12-12.3.1.170-py3-none-manylinux2014_x86_64.whl.metadata (1.6 kB)\n",
            "Requirement already satisfied: nvidia-cusparselt-cu12==0.6.2 in /usr/local/lib/python3.11/dist-packages (from torch>=1.6->cellpose) (0.6.2)\n",
            "Requirement already satisfied: nvidia-nccl-cu12==2.21.5 in /usr/local/lib/python3.11/dist-packages (from torch>=1.6->cellpose) (2.21.5)\n",
            "Requirement already satisfied: nvidia-nvtx-cu12==12.4.127 in /usr/local/lib/python3.11/dist-packages (from torch>=1.6->cellpose) (12.4.127)\n",
            "Collecting nvidia-nvjitlink-cu12==12.4.127 (from torch>=1.6->cellpose)\n",
            "  Downloading nvidia_nvjitlink_cu12-12.4.127-py3-none-manylinux2014_x86_64.whl.metadata (1.5 kB)\n",
            "Requirement already satisfied: triton==3.2.0 in /usr/local/lib/python3.11/dist-packages (from torch>=1.6->cellpose) (3.2.0)\n",
            "Requirement already satisfied: sympy==1.13.1 in /usr/local/lib/python3.11/dist-packages (from torch>=1.6->cellpose) (1.13.1)\n",
            "Requirement already satisfied: mpmath<1.4,>=1.1.0 in /usr/local/lib/python3.11/dist-packages (from sympy==1.13.1->torch>=1.6->cellpose) (1.3.0)\n",
            "Requirement already satisfied: pillow!=8.3.*,>=5.3.0 in /usr/local/lib/python3.11/dist-packages (from torchvision->cellpose) (11.2.1)\n",
            "Requirement already satisfied: MarkupSafe>=2.0 in /usr/local/lib/python3.11/dist-packages (from jinja2->torch>=1.6->cellpose) (3.0.2)\n",
            "Downloading cellpose-4.0.4-py3-none-any.whl (211 kB)\n",
            "\u001b[2K   \u001b[90m━━━━━━━━━━━━━━━━━━━━━━━━━━━━━━━━━━━━━━━━\u001b[0m \u001b[32m211.0/211.0 kB\u001b[0m \u001b[31m12.5 MB/s\u001b[0m eta \u001b[36m0:00:00\u001b[0m\n",
            "\u001b[?25hDownloading nvidia_cublas_cu12-12.4.5.8-py3-none-manylinux2014_x86_64.whl (363.4 MB)\n",
            "\u001b[2K   \u001b[90m━━━━━━━━━━━━━━━━━━━━━━━━━━━━━━━━━━━━━━━━\u001b[0m \u001b[32m363.4/363.4 MB\u001b[0m \u001b[31m3.2 MB/s\u001b[0m eta \u001b[36m0:00:00\u001b[0m\n",
            "\u001b[?25hDownloading nvidia_cuda_cupti_cu12-12.4.127-py3-none-manylinux2014_x86_64.whl (13.8 MB)\n",
            "\u001b[2K   \u001b[90m━━━━━━━━━━━━━━━━━━━━━━━━━━━━━━━━━━━━━━━━\u001b[0m \u001b[32m13.8/13.8 MB\u001b[0m \u001b[31m126.5 MB/s\u001b[0m eta \u001b[36m0:00:00\u001b[0m\n",
            "\u001b[?25hDownloading nvidia_cuda_nvrtc_cu12-12.4.127-py3-none-manylinux2014_x86_64.whl (24.6 MB)\n",
            "\u001b[2K   \u001b[90m━━━━━━━━━━━━━━━━━━━━━━━━━━━━━━━━━━━━━━━━\u001b[0m \u001b[32m24.6/24.6 MB\u001b[0m \u001b[31m104.2 MB/s\u001b[0m eta \u001b[36m0:00:00\u001b[0m\n",
            "\u001b[?25hDownloading nvidia_cuda_runtime_cu12-12.4.127-py3-none-manylinux2014_x86_64.whl (883 kB)\n",
            "\u001b[2K   \u001b[90m━━━━━━━━━━━━━━━━━━━━━━━━━━━━━━━━━━━━━━━━\u001b[0m \u001b[32m883.7/883.7 kB\u001b[0m \u001b[31m61.8 MB/s\u001b[0m eta \u001b[36m0:00:00\u001b[0m\n",
            "\u001b[?25hDownloading nvidia_cudnn_cu12-9.1.0.70-py3-none-manylinux2014_x86_64.whl (664.8 MB)\n",
            "\u001b[2K   \u001b[90m━━━━━━━━━━━━━━━━━━━━━━━━━━━━━━━━━━━━━━━━\u001b[0m \u001b[32m664.8/664.8 MB\u001b[0m \u001b[31m2.4 MB/s\u001b[0m eta \u001b[36m0:00:00\u001b[0m\n",
            "\u001b[?25hDownloading nvidia_cufft_cu12-11.2.1.3-py3-none-manylinux2014_x86_64.whl (211.5 MB)\n",
            "\u001b[2K   \u001b[90m━━━━━━━━━━━━━━━━━━━━━━━━━━━━━━━━━━━━━━━━\u001b[0m \u001b[32m211.5/211.5 MB\u001b[0m \u001b[31m5.0 MB/s\u001b[0m eta \u001b[36m0:00:00\u001b[0m\n",
            "\u001b[?25hDownloading nvidia_curand_cu12-10.3.5.147-py3-none-manylinux2014_x86_64.whl (56.3 MB)\n",
            "\u001b[2K   \u001b[90m━━━━━━━━━━━━━━━━━━━━━━━━━━━━━━━━━━━━━━━━\u001b[0m \u001b[32m56.3/56.3 MB\u001b[0m \u001b[31m44.0 MB/s\u001b[0m eta \u001b[36m0:00:00\u001b[0m\n",
            "\u001b[?25hDownloading nvidia_cusolver_cu12-11.6.1.9-py3-none-manylinux2014_x86_64.whl (127.9 MB)\n",
            "\u001b[2K   \u001b[90m━━━━━━━━━━━━━━━━━━━━━━━━━━━━━━━━━━━━━━━━\u001b[0m \u001b[32m127.9/127.9 MB\u001b[0m \u001b[31m20.5 MB/s\u001b[0m eta \u001b[36m0:00:00\u001b[0m\n",
            "\u001b[?25hDownloading nvidia_cusparse_cu12-12.3.1.170-py3-none-manylinux2014_x86_64.whl (207.5 MB)\n",
            "\u001b[2K   \u001b[90m━━━━━━━━━━━━━━━━━━━━━━━━━━━━━━━━━━━━━━━━\u001b[0m \u001b[32m207.5/207.5 MB\u001b[0m \u001b[31m4.2 MB/s\u001b[0m eta \u001b[36m0:00:00\u001b[0m\n",
            "\u001b[?25hDownloading nvidia_nvjitlink_cu12-12.4.127-py3-none-manylinux2014_x86_64.whl (21.1 MB)\n",
            "\u001b[2K   \u001b[90m━━━━━━━━━━━━━━━━━━━━━━━━━━━━━━━━━━━━━━━━\u001b[0m \u001b[32m21.1/21.1 MB\u001b[0m \u001b[31m110.5 MB/s\u001b[0m eta \u001b[36m0:00:00\u001b[0m\n",
            "\u001b[?25hDownloading fastremap-1.16.1-cp311-cp311-manylinux_2_17_x86_64.manylinux2014_x86_64.whl (7.1 MB)\n",
            "\u001b[2K   \u001b[90m━━━━━━━━━━━━━━━━━━━━━━━━━━━━━━━━━━━━━━━━\u001b[0m \u001b[32m7.1/7.1 MB\u001b[0m \u001b[31m126.4 MB/s\u001b[0m eta \u001b[36m0:00:00\u001b[0m\n",
            "\u001b[?25hDownloading fill_voids-2.1.0-cp311-cp311-manylinux_2_17_x86_64.manylinux2014_x86_64.whl (1.5 MB)\n",
            "\u001b[2K   \u001b[90m━━━━━━━━━━━━━━━━━━━━━━━━━━━━━━━━━━━━━━━━\u001b[0m \u001b[32m1.5/1.5 MB\u001b[0m \u001b[31m70.3 MB/s\u001b[0m eta \u001b[36m0:00:00\u001b[0m\n",
            "\u001b[?25hDownloading imagecodecs-2025.3.30-cp311-cp311-manylinux_2_17_x86_64.manylinux2014_x86_64.whl (45.6 MB)\n",
            "\u001b[2K   \u001b[90m━━━━━━━━━━━━━━━━━━━━━━━━━━━━━━━━━━━━━━━━\u001b[0m \u001b[32m45.6/45.6 MB\u001b[0m \u001b[31m52.5 MB/s\u001b[0m eta \u001b[36m0:00:00\u001b[0m\n",
            "\u001b[?25hDownloading roifile-2025.5.10-py3-none-any.whl (17 kB)\n",
            "Downloading segment_anything-1.0-py3-none-any.whl (36 kB)\n",
            "Installing collected packages: segment_anything, roifile, nvidia-nvjitlink-cu12, nvidia-curand-cu12, nvidia-cufft-cu12, nvidia-cuda-runtime-cu12, nvidia-cuda-nvrtc-cu12, nvidia-cuda-cupti-cu12, nvidia-cublas-cu12, imagecodecs, fastremap, nvidia-cusparse-cu12, nvidia-cudnn-cu12, fill-voids, nvidia-cusolver-cu12, cellpose\n",
            "  Attempting uninstall: nvidia-nvjitlink-cu12\n",
            "    Found existing installation: nvidia-nvjitlink-cu12 12.5.82\n",
            "    Uninstalling nvidia-nvjitlink-cu12-12.5.82:\n",
            "      Successfully uninstalled nvidia-nvjitlink-cu12-12.5.82\n",
            "  Attempting uninstall: nvidia-curand-cu12\n",
            "    Found existing installation: nvidia-curand-cu12 10.3.6.82\n",
            "    Uninstalling nvidia-curand-cu12-10.3.6.82:\n",
            "      Successfully uninstalled nvidia-curand-cu12-10.3.6.82\n",
            "  Attempting uninstall: nvidia-cufft-cu12\n",
            "    Found existing installation: nvidia-cufft-cu12 11.2.3.61\n",
            "    Uninstalling nvidia-cufft-cu12-11.2.3.61:\n",
            "      Successfully uninstalled nvidia-cufft-cu12-11.2.3.61\n",
            "  Attempting uninstall: nvidia-cuda-runtime-cu12\n",
            "    Found existing installation: nvidia-cuda-runtime-cu12 12.5.82\n",
            "    Uninstalling nvidia-cuda-runtime-cu12-12.5.82:\n",
            "      Successfully uninstalled nvidia-cuda-runtime-cu12-12.5.82\n",
            "  Attempting uninstall: nvidia-cuda-nvrtc-cu12\n",
            "    Found existing installation: nvidia-cuda-nvrtc-cu12 12.5.82\n",
            "    Uninstalling nvidia-cuda-nvrtc-cu12-12.5.82:\n",
            "      Successfully uninstalled nvidia-cuda-nvrtc-cu12-12.5.82\n",
            "  Attempting uninstall: nvidia-cuda-cupti-cu12\n",
            "    Found existing installation: nvidia-cuda-cupti-cu12 12.5.82\n",
            "    Uninstalling nvidia-cuda-cupti-cu12-12.5.82:\n",
            "      Successfully uninstalled nvidia-cuda-cupti-cu12-12.5.82\n",
            "  Attempting uninstall: nvidia-cublas-cu12\n",
            "    Found existing installation: nvidia-cublas-cu12 12.5.3.2\n",
            "    Uninstalling nvidia-cublas-cu12-12.5.3.2:\n",
            "      Successfully uninstalled nvidia-cublas-cu12-12.5.3.2\n",
            "  Attempting uninstall: nvidia-cusparse-cu12\n",
            "    Found existing installation: nvidia-cusparse-cu12 12.5.1.3\n",
            "    Uninstalling nvidia-cusparse-cu12-12.5.1.3:\n",
            "      Successfully uninstalled nvidia-cusparse-cu12-12.5.1.3\n",
            "  Attempting uninstall: nvidia-cudnn-cu12\n",
            "    Found existing installation: nvidia-cudnn-cu12 9.3.0.75\n",
            "    Uninstalling nvidia-cudnn-cu12-9.3.0.75:\n",
            "      Successfully uninstalled nvidia-cudnn-cu12-9.3.0.75\n",
            "  Attempting uninstall: nvidia-cusolver-cu12\n",
            "    Found existing installation: nvidia-cusolver-cu12 11.6.3.83\n",
            "    Uninstalling nvidia-cusolver-cu12-11.6.3.83:\n",
            "      Successfully uninstalled nvidia-cusolver-cu12-11.6.3.83\n",
            "Successfully installed cellpose-4.0.4 fastremap-1.16.1 fill-voids-2.1.0 imagecodecs-2025.3.30 nvidia-cublas-cu12-12.4.5.8 nvidia-cuda-cupti-cu12-12.4.127 nvidia-cuda-nvrtc-cu12-12.4.127 nvidia-cuda-runtime-cu12-12.4.127 nvidia-cudnn-cu12-9.1.0.70 nvidia-cufft-cu12-11.2.1.3 nvidia-curand-cu12-10.3.5.147 nvidia-cusolver-cu12-11.6.1.9 nvidia-cusparse-cu12-12.3.1.170 nvidia-nvjitlink-cu12-12.4.127 roifile-2025.5.10 segment_anything-1.0\n"
          ]
        }
      ]
    },
    {
      "cell_type": "code",
      "source": [
        "import os\n",
        "\n",
        "os.environ['PYTHONPATH'] = (\n",
        "  '/content/MaterialsVision:' + os.environ.get('PYTHONPATH', '')\n",
        ")"
      ],
      "metadata": {
        "id": "PpVPuJ4RNK2i"
      },
      "execution_count": null,
      "outputs": []
    },
    {
      "cell_type": "code",
      "source": [
        "from pathlib import Path\n",
        "import numpy as np\n",
        "from cellpose.io import imread\n",
        "import tifffile\n",
        "import time\n",
        "\n",
        "from cellpose.metrics import (\n",
        "    mask_ious, boundary_scores, aggregated_jaccard_index, average_precision\n",
        ")\n",
        "import torch\n",
        "from skimage.segmentation import relabel_sequential\n",
        "from cellpose.metrics import boundary_scores\n",
        "from cellpose import utils\n",
        "import gc\n",
        "import pandas as pd\n",
        "from typing import Dict, List\n",
        "import json\n",
        "import matplotlib.pyplot as plt\n",
        "\n",
        "from datetime import datetime\n",
        "\n",
        "from pycocotools.coco import COCO\n",
        "import numpy as np"
      ],
      "metadata": {
        "colab": {
          "base_uri": "https://localhost:8080/"
        },
        "id": "f_i3hftTROp_",
        "outputId": "02818aa0-267c-4480-ab94-cdaaf13d65a4"
      },
      "execution_count": null,
      "outputs": [
        {
          "output_type": "stream",
          "name": "stdout",
          "text": [
            "\n",
            "\n",
            "Welcome to CellposeSAM, cellpose v\n",
            "cellpose version: \t4.0.4 \n",
            "platform:       \tlinux \n",
            "python version: \t3.11.13 \n",
            "torch version:  \t2.6.0+cu124! The neural network component of\n",
            "CPSAM is much larger than in previous versions and CPU excution is slow. \n",
            "We encourage users to use GPU/MPS if available. \n",
            "\n",
            "\n"
          ]
        }
      ]
    },
    {
      "cell_type": "code",
      "source": [
        "from google.colab import drive\n",
        "drive.mount('/content/drive')"
      ],
      "metadata": {
        "id": "NxbB6gQNNYKG",
        "colab": {
          "base_uri": "https://localhost:8080/"
        },
        "outputId": "6712c6e8-ed04-403a-f5e5-d4f6d1fadaf2"
      },
      "execution_count": null,
      "outputs": [
        {
          "output_type": "stream",
          "name": "stdout",
          "text": [
            "Mounted at /content/drive\n"
          ]
        }
      ]
    },
    {
      "cell_type": "markdown",
      "source": [
        "# Model evaluation functions"
      ],
      "metadata": {
        "id": "V5yYS37dgsUg"
      }
    },
    {
      "cell_type": "code",
      "source": [
        "def get_bbox_from_mask(mask: np.ndarray, relabel_image: bool = True) -> dict:\n",
        "  if relabel_image:\n",
        "    mask, forward, inverse_map = relabel_sequential(mask, offset=1)\n",
        "  labels = np.unique(mask)\n",
        "  bboxes = {}\n",
        "  for label in labels[labels>0]:\n",
        "    rows, cols = np.where(mask==label)\n",
        "    if rows.size == 0:\n",
        "      continue\n",
        "    y_min, y_max = rows.min(), rows.max()\n",
        "    x_min, x_max = cols.min(), cols.max()\n",
        "    bboxes[int(label)] = int(x_min), int(y_min), int(x_max), int(y_max)\n",
        "  return bboxes"
      ],
      "metadata": {
        "id": "oXCoxwUDgvXT"
      },
      "execution_count": null,
      "outputs": []
    },
    {
      "cell_type": "code",
      "source": [
        "def calculate_iou(bbox_true, bbox_pred, epsilon=1e-5):\n",
        "  # coordinates of the intersection box\n",
        "  x1 = np.max([bbox_true[0], bbox_pred[0]])\n",
        "  y1 = np.max([bbox_true[1], bbox_pred[1]])\n",
        "  x2 = np.min([bbox_true[2], bbox_pred[2]])\n",
        "  y2 = np.min([bbox_true[3], bbox_pred[3]])\n",
        "\n",
        "  # area of overlap\n",
        "  width = (x2 - x1)\n",
        "  height = (y2 - y1)\n",
        "\n",
        "  # if there is no overlap\n",
        "  if (width<0) or (height<0):\n",
        "    return 0.0\n",
        "  area_of_overlap = width * height\n",
        "  # combined area\n",
        "  area_bbox_true = (bbox_true[2] - bbox_true[0]) * (bbox_true[3] - bbox_true[1])\n",
        "  area_bbox_pred = (bbox_pred[2] - bbox_pred[0]) * (bbox_pred[3] - bbox_pred[1])\n",
        "  area_combined = area_bbox_true + area_bbox_pred - area_of_overlap\n",
        "  # ratio of area of overlap over combined area\n",
        "  iou = area_of_overlap / (area_combined + epsilon)\n",
        "  return iou"
      ],
      "metadata": {
        "id": "OpqrXE1uZ6yL"
      },
      "execution_count": null,
      "outputs": []
    },
    {
      "cell_type": "code",
      "source": [
        "def get_iou_matrix(bboxes_true, bboxes_pred):\n",
        "  n_bboxes_true = len(bboxes_true)\n",
        "  n_bboxes_pred = len(bboxes_pred)\n",
        "  I = np.zeros((n_bboxes_true, n_bboxes_pred), dtype=np.float32)\n",
        "  for i in range(n_bboxes_true):\n",
        "    for j in range(n_bboxes_pred):\n",
        "      I[i, j] = calculate_iou(bboxes_true[i], bboxes_pred[j])\n",
        "  return I"
      ],
      "metadata": {
        "id": "CFFMzxJeqw_W"
      },
      "execution_count": null,
      "outputs": []
    },
    {
      "cell_type": "code",
      "source": [
        "def calculate_pores_difference(n_pores_true: int, n_pores_pred):\n",
        "  return float(np.abs(n_pores_true - n_pores_pred) / n_pores_true)"
      ],
      "metadata": {
        "id": "cc09Vtm1k8bi"
      },
      "execution_count": null,
      "outputs": []
    },
    {
      "cell_type": "code",
      "source": [
        "def greedy_match_iou(iou_matrix, threshold):\n",
        "  I = iou_matrix.copy()\n",
        "  all_triples_list = []\n",
        "  matched_true, matched_pred = set(), set()\n",
        "  matches = []\n",
        "  I[I < threshold] = 0.0\n",
        "  N_true, N_pred = I.shape\n",
        "  # get pores difference\n",
        "  pores_diff = calculate_pores_difference(N_true, N_pred)\n",
        "\n",
        "  non_zero = np.argwhere(I>0.0)\n",
        "  for (i, j) in non_zero:\n",
        "    all_triples_list.append((i, j, I[i, j]))\n",
        "\n",
        "  sorted_all_triples_list = sorted(\n",
        "      all_triples_list, key=lambda x: x[2], reverse=True\n",
        "  )\n",
        "\n",
        "  for triples in sorted_all_triples_list:\n",
        "    if (triples[0] not in matched_true) & (triples[1] not in matched_pred):\n",
        "      matched_true.add(triples[0])\n",
        "      matched_pred.add(triples[1])\n",
        "      matches.append((triples[0], triples[1], triples[2]))\n",
        "\n",
        "  TP = len(matches)\n",
        "  FN = N_true - len(matched_true)\n",
        "  FP = N_pred - len(matched_pred)\n",
        "\n",
        "  precision = (TP / (TP + FP) if (TP + FP) > 0 else 0.0)\n",
        "  recall = (TP / (TP + FN) if (TP+FN) > 0 else 0.0)\n",
        "  f1_score = (2 * (precision * recall) / (precision + recall) if\n",
        "      (precision + recall) > 0 else 0.0\n",
        "  )\n",
        "  iou_mean = float(sum(score for (_, _, score) in matches) / TP if TP > 0 else 0.0)\n",
        "\n",
        "  return {\n",
        "      'TP': TP,\n",
        "      'FP': FP,\n",
        "      'FN': FN,\n",
        "      'precision': precision,\n",
        "      'recall': recall,\n",
        "      'f1_score': f1_score,\n",
        "      'iou_mean': iou_mean,\n",
        "      'pores_diff': pores_diff\n",
        "  }\n"
      ],
      "metadata": {
        "id": "KgFBNhp6IasC"
      },
      "execution_count": null,
      "outputs": []
    },
    {
      "cell_type": "code",
      "source": [
        "def iou_scores_batch(true_masks, pred_masks, greedy_match_threshold = 0.5):\n",
        "  iou_results = {}\n",
        "  for idx, (true_mask, pred_mask) in enumerate(zip(true_masks, pred_masks)):\n",
        "    pred_bboxes = get_bbox_from_mask(pred_mask)\n",
        "    true_bboxes = get_bbox_from_mask(true_mask)\n",
        "    iou_matrix = get_iou_matrix(\n",
        "        list(pred_bboxes.values()), list(true_bboxes.values())\n",
        "    )\n",
        "    one_img_output = greedy_match_iou(iou_matrix, greedy_match_threshold)\n",
        "    iou_results[idx] = one_img_output\n",
        "  return iou_results"
      ],
      "metadata": {
        "id": "AXiThZ2ye9oX"
      },
      "execution_count": null,
      "outputs": []
    },
    {
      "cell_type": "code",
      "source": [
        "def boundary_scores_batched(masks_true, masks_pred, scales, batch_size=2):\n",
        "    N = len(masks_true)\n",
        "    M = len(scales)\n",
        "\n",
        "    precision_all = np.zeros((M, N), dtype=float)\n",
        "    recall_all    = np.zeros((M, N), dtype=float)\n",
        "    fscore_all    = np.zeros((M, N), dtype=float)\n",
        "\n",
        "    for start in range(0, N, batch_size):\n",
        "        end = min(start + batch_size, N)\n",
        "        # part of lists (batched solution)\n",
        "        sub_true = masks_true[start:end]\n",
        "        sub_pred = masks_pred[start:end]\n",
        "        p_sub, r_sub, f_sub = boundary_scores(sub_true, sub_pred, scales)\n",
        "\n",
        "        precision_all[:, start:end] = p_sub\n",
        "        recall_all[:, start:end]    = r_sub\n",
        "        fscore_all[:, start:end]    = f_sub\n",
        "\n",
        "        # clean memory\n",
        "        gc.collect()\n",
        "\n",
        "    return precision_all, recall_all, fscore_all\n"
      ],
      "metadata": {
        "id": "cUNNKN_zWkEG"
      },
      "execution_count": null,
      "outputs": []
    },
    {
      "cell_type": "code",
      "source": [
        "def summarize_evaluation_iou(iou_results):\n",
        "  TP_all, FP_all, FN_all = [], [], []\n",
        "  micro_metrics = ['TP', 'FP', 'FN']\n",
        "  macro_metrics_list = [\n",
        "      metric for metric in list(\n",
        "          [metric for metric in iou_results.values()][0].keys()\n",
        "      ) if metric not in micro_metrics\n",
        "  ]\n",
        "  macro_metric_results = {}\n",
        "  # macro evaluation\n",
        "  for metric_dict in iou_results.values():\n",
        "    for metric, value in metric_dict.items():\n",
        "      if metric not in ['TP', 'FP', 'FN']:\n",
        "        macro_metric_results[f'iou_mean_{metric}'] = np.mean(value)\n",
        "  # micro evaluation\n",
        "      elif metric == 'TP':\n",
        "        TP_all.append(value)\n",
        "      elif metric == 'FP':\n",
        "        FP_all.append(value)\n",
        "      elif metric == 'FN':\n",
        "        FN_all.append(value)\n",
        "  TP_all_sum = np.sum(TP_all)\n",
        "  FP_all_sum = np.sum(FP_all)\n",
        "  FN_all_sum = np.sum(FN_all)\n",
        "  precision_micro = TP_all_sum / (TP_all_sum + FP_all_sum)\n",
        "  recall_micro = TP_all_sum / (TP_all_sum + FN_all_sum)\n",
        "  f1_micro = (\n",
        "      2 * precision_micro * recall_micro\n",
        "    ) / (precision_micro + recall_micro)\n",
        "  # prepare final report\n",
        "  report = pd.DataFrame.from_dict(\n",
        "      macro_metric_results, orient='index', columns=['value']\n",
        "    )\n",
        "  report.loc['iou_precision_micro'] = precision_micro\n",
        "  report.loc['iou_recall_micro'] = recall_micro\n",
        "  report.loc['iou_f1_micro'] = f1_micro\n",
        "  return report"
      ],
      "metadata": {
        "id": "Nuemj6UyGDAJ"
      },
      "execution_count": null,
      "outputs": []
    },
    {
      "cell_type": "code",
      "source": [
        "def summarize_evaluation_boundary_score(precision_all, recall_all, fscore_all):\n",
        "  bs_precision_mean = np.mean(precision_all)\n",
        "  bs_recall_mean = np.mean(recall_all)\n",
        "  bs_fscore_mean = np.mean(fscore_all)\n",
        "  bs_metrics_dict = {\n",
        "        'boundary_score_mean_precision': bs_precision_mean,\n",
        "        'boundary_score_mean_recall':    bs_recall_mean,\n",
        "        'boundary_score_mean_f1':        bs_fscore_mean,\n",
        "  }\n",
        "  report = pd.DataFrame.from_dict(\n",
        "      bs_metrics_dict, orient='index', columns=['value']\n",
        "  )\n",
        "  return report"
      ],
      "metadata": {
        "id": "YBZe8bU8w6cy"
      },
      "execution_count": null,
      "outputs": []
    },
    {
      "cell_type": "code",
      "source": [
        "def get_today_datetime_str():\n",
        "  today_datetime = datetime.now().strftime(\"%m/%d/%Y %H:%M:%S\")\n",
        "  today_datetime = today_datetime[:-3]  # skip seconds\n",
        "  today_datetime = (\n",
        "      today_datetime\n",
        "      .replace('-', '_')\n",
        "      .replace(':', '_')\n",
        "      .replace('/', '_')\n",
        "      .replace(' ', '__')\n",
        "  )\n",
        "  return today_datetime"
      ],
      "metadata": {
        "id": "YLSe3FNKDiJ0"
      },
      "execution_count": null,
      "outputs": []
    },
    {
      "cell_type": "code",
      "source": [
        "def summarize_evaluation(\n",
        "    output_filename: str,\n",
        "    iou_results: Dict,\n",
        "    boundary_score_precision_all: List,\n",
        "    boundary_score_recall_all: List,\n",
        "    boundary_score_fscore_all: List,\n",
        "    evaluation_comment: str = '',\n",
        "    save_raw_iou_results: bool = True,\n",
        "    save_final_results: bool = True,\n",
        "    output_directory_path = None,\n",
        "    add_today_datetime_to_filename: bool = True\n",
        "):\n",
        "  report_iou = summarize_evaluation_iou(iou_results)\n",
        "  report_boundary_score = summarize_evaluation_boundary_score(\n",
        "      precision_all=boundary_score_precision_all,\n",
        "      recall_all=boundary_score_recall_all,\n",
        "      fscore_all=boundary_score_fscore_all\n",
        "  )\n",
        "  report_final = pd.concat([report_iou, report_boundary_score])\n",
        "  report_final['comment'] = evaluation_comment\n",
        "  # save files\n",
        "  today_datetime_str = (\n",
        "      get_today_datetime_str() if add_today_datetime_to_filename else ''\n",
        "  )\n",
        "  if not output_directory_path:\n",
        "    output_directory_path = Path(\n",
        "        '/content/drive/MyDrive/evaluation_metrics'\n",
        "    )\n",
        "  # save raw iou\n",
        "  if save_raw_iou_results:\n",
        "    output_directory_path.mkdir(parents=True, exist_ok=True)\n",
        "    output_filename = (\n",
        "        f'raw_iou_results_{evaluation_comment}_{today_datetime_str}.json'\n",
        "    )\n",
        "    output_filepath = output_directory_path / output_filename\n",
        "    with open(output_filepath, 'w') as f:\n",
        "      json.dump(iou_results, f)\n",
        "    print('Raw iou test dictionary saved.')\n",
        "  # save final results\n",
        "  if save_final_results:\n",
        "    output_directory_path.mkdir(parents=True, exist_ok=True)\n",
        "    output_filename = (\n",
        "        f'evaluation_results_{today_datetime_str}.csv'\n",
        "    )\n",
        "    output_filepath = output_directory_path / output_filename\n",
        "    report_final.to_csv(output_filepath)\n",
        "    print('Final evaluation metrics report saved.')\n",
        "    return report_final"
      ],
      "metadata": {
        "id": "a-F3CyPlxlwv"
      },
      "execution_count": null,
      "outputs": []
    },
    {
      "cell_type": "code",
      "source": [
        "def visualize_results(\n",
        "    pred_masks,\n",
        "    img_idx_to_visualize: int = 0,\n",
        "    save_subsample: bool = True,\n",
        "    output_directory_path = None,\n",
        "    add_today_datetime_to_filename: bool = True,\n",
        "    evaluation_comment: str = ''\n",
        "):\n",
        "  if not output_directory_path:\n",
        "    output_directory_path = Path(\n",
        "        '/content/drive/MyDrive/evaluation_metrics/plots'\n",
        "    )\n",
        "  today_datetime_str = (\n",
        "      get_today_datetime_str() if add_today_datetime_to_filename else ''\n",
        "  )\n",
        "  # save images\n",
        "  if save_subsample:\n",
        "    output_directory_path.mkdir(parents=True, exist_ok=True)\n",
        "    num_images = 10\n",
        "    for img_idx in range(num_images):\n",
        "        fig = plt.figure(figsize=(20, 12))\n",
        "        plot.show_segmentation(\n",
        "          fig=fig,\n",
        "          maski=pred_masks[img_idx],\n",
        "          img=imgs[img_idx],\n",
        "          flowi=flows[img_idx][0]\n",
        "        )\n",
        "        plt.savefig(\n",
        "            f'{output_directory_path}/{evaluation_comment}_figure_{img_idx}.jpg'\n",
        "        )\n",
        "        plt.close(fig)\n",
        "  # show_figure\n",
        "  fig = plt.figure(figsize=(20, 12))\n",
        "  plot.show_segmentation(\n",
        "    fig=fig,\n",
        "    maski=pred_masks[img_idx_to_visualize],\n",
        "    img=imgs[img_idx_to_visualize],\n",
        "    flowi=flows[img_idx_to_visualize][0]\n",
        "  )\n",
        "  plt.show()"
      ],
      "metadata": {
        "id": "AbdbHRgZGmaQ"
      },
      "execution_count": null,
      "outputs": []
    },
    {
      "cell_type": "markdown",
      "source": [
        "# Load manual annotations"
      ],
      "metadata": {
        "id": "KH_5R7o6xD0P"
      }
    },
    {
      "cell_type": "code",
      "source": [
        "def load_manual_annotated_image(\n",
        "    search_img_name: str,\n",
        "    folder_path=r'/content/manual_annotated_images'\n",
        "  ) -> np.ndarray:\n",
        "    '''\n",
        "    Loads images. Remember to firstly upload files to\n",
        "    folder_path\n",
        "    '''\n",
        "    matched = list(Path(folder_path).glob(search_img_name))\n",
        "    return imread(matched[0])"
      ],
      "metadata": {
        "id": "Ra6dPRoG0BPO"
      },
      "execution_count": null,
      "outputs": []
    },
    {
      "cell_type": "code",
      "source": [
        "def load_manual_annotations(result_filepath: Path) -> pd.DataFrame:\n",
        "  '''\n",
        "  Creates result dataframe with images, their predicted and true\n",
        "  masks.\n",
        "  '''\n",
        "  result_df = pd.DataFrame(columns=[\n",
        "      'img_id', 'img_name', 'img', 'pred_mask', 'true_mask'\n",
        "    ]\n",
        "  )\n",
        "\n",
        "  coco = COCO(filepath_json)\n",
        "  imgs_ids = coco.getImgIds()\n",
        "  imgs_info = coco.loadImgs(imgs_ids)\n",
        "  for img_id, img_info in zip(imgs_ids, imgs_info):\n",
        "    h, w = img_info[\"height\"], img_info[\"width\"]\n",
        "    img_name = img_info['file_name'].split('/')[-1].split('-')[-1]\n",
        "\n",
        "    anns = coco.loadAnns(coco.getAnnIds(imgIds=[img_id]))\n",
        "    pred_mask = np.zeros((h, w), dtype=np.uint16)\n",
        "\n",
        "    for idx, ann in enumerate(anns, start=1):\n",
        "        m = coco.annToMask(ann)   # mask 0/1\n",
        "        pred_mask[m > 0] = idx\n",
        "\n",
        "    # read proper image\n",
        "    img = load_manual_annotated_image(img_name)\n",
        "    # read true masks\n",
        "    true_mask_filename = '_'.join(img_name.split('_')[:2]) + '_masks.tiff'\n",
        "    true_mask = load_manual_annotated_image(\n",
        "        search_img_name=true_mask_filename,\n",
        "        folder_path=r'/content/true_masks'\n",
        "    )\n",
        "    # add results\n",
        "    result_df.loc[len(result_df)] = [\n",
        "        img_id, img_name, img, pred_mask, true_mask\n",
        "      ]\n",
        "\n",
        "  return result_df"
      ],
      "metadata": {
        "id": "MhDmRIGtxH3l"
      },
      "execution_count": null,
      "outputs": []
    },
    {
      "cell_type": "code",
      "source": [
        "filepath_json = Path(r'/content/result.json')  # add result.json file extracted\n",
        "# as COCO file using Label Studio\n",
        "df_manual_annotations = load_manual_annotations(filepath_json)"
      ],
      "metadata": {
        "colab": {
          "base_uri": "https://localhost:8080/"
        },
        "id": "ct0gb7g4xNvR",
        "outputId": "f553d640-f0e0-4649-a526-e9c0bb33635d"
      },
      "execution_count": null,
      "outputs": [
        {
          "output_type": "stream",
          "name": "stdout",
          "text": [
            "loading annotations into memory...\n",
            "Done (t=0.01s)\n",
            "creating index...\n",
            "index created!\n"
          ]
        }
      ]
    },
    {
      "cell_type": "markdown",
      "source": [
        "# Evaluation"
      ],
      "metadata": {
        "id": "VmP1ohk-VkXi"
      }
    },
    {
      "cell_type": "code",
      "source": [
        "true_masks = list(df_manual_annotations['true_mask'].values)\n",
        "pred_masks = list(df_manual_annotations['pred_mask'].values)"
      ],
      "metadata": {
        "id": "bJdDJVnK7A8m"
      },
      "execution_count": null,
      "outputs": []
    },
    {
      "cell_type": "code",
      "source": [
        "iou_results = iou_scores_batch(\n",
        "    true_masks=true_masks,\n",
        "    pred_masks=pred_masks,\n",
        "    greedy_match_threshold=0.5\n",
        ")"
      ],
      "metadata": {
        "id": "FvCelAo3V3aC"
      },
      "execution_count": null,
      "outputs": []
    },
    {
      "cell_type": "code",
      "source": [
        "bs_precision_all, bs_recall_all, bs_fscore_all = boundary_scores_batched(\n",
        "    true_masks,\n",
        "    pred_masks,\n",
        "    scales=[0.1],  # scale can be changed\n",
        "    batch_size=3\n",
        ")"
      ],
      "metadata": {
        "id": "Ley5PjOLWWCX"
      },
      "execution_count": null,
      "outputs": []
    },
    {
      "cell_type": "code",
      "source": [
        "summarize_evaluation(\n",
        "    output_filename='eveluation_mannual_annotations',\n",
        "    iou_results=iou_results,\n",
        "    boundary_score_precision_all=bs_precision_all,\n",
        "    boundary_score_recall_all=bs_recall_all,\n",
        "    boundary_score_fscore_all=bs_fscore_all,\n",
        "    evaluation_comment='eveluation_mannual_annotations',\n",
        "    save_raw_iou_results=True,\n",
        "    save_final_results=True,\n",
        "    add_today_datetime_to_filename=True\n",
        ")"
      ],
      "metadata": {
        "collapsed": true,
        "id": "hkGcZKj1VsAy",
        "colab": {
          "base_uri": "https://localhost:8080/",
          "height": 424
        },
        "outputId": "36616248-71f3-443d-8429-9bad68dd3091"
      },
      "execution_count": null,
      "outputs": [
        {
          "output_type": "stream",
          "name": "stdout",
          "text": [
            "Raw iou test dictionary saved.\n",
            "Final evaluation metrics report saved.\n"
          ]
        },
        {
          "output_type": "execute_result",
          "data": {
            "text/plain": [
              "                                  value                         comment\n",
              "iou_mean_precision             1.000000  eveluation_mannual_annotations\n",
              "iou_mean_recall                1.000000  eveluation_mannual_annotations\n",
              "iou_mean_f1_score              1.000000  eveluation_mannual_annotations\n",
              "iou_mean_iou_mean              0.939868  eveluation_mannual_annotations\n",
              "iou_mean_pores_diff            0.000000  eveluation_mannual_annotations\n",
              "iou_precision_micro            1.000000  eveluation_mannual_annotations\n",
              "iou_recall_micro               1.000000  eveluation_mannual_annotations\n",
              "iou_f1_micro                   1.000000  eveluation_mannual_annotations\n",
              "boundary_score_mean_precision  0.923976  eveluation_mannual_annotations\n",
              "boundary_score_mean_recall     0.995515  eveluation_mannual_annotations\n",
              "boundary_score_mean_f1         0.958248  eveluation_mannual_annotations"
            ],
            "text/html": [
              "\n",
              "  <div id=\"df-63cc8443-d6e5-4878-99e4-5457bbf49980\" class=\"colab-df-container\">\n",
              "    <div>\n",
              "<style scoped>\n",
              "    .dataframe tbody tr th:only-of-type {\n",
              "        vertical-align: middle;\n",
              "    }\n",
              "\n",
              "    .dataframe tbody tr th {\n",
              "        vertical-align: top;\n",
              "    }\n",
              "\n",
              "    .dataframe thead th {\n",
              "        text-align: right;\n",
              "    }\n",
              "</style>\n",
              "<table border=\"1\" class=\"dataframe\">\n",
              "  <thead>\n",
              "    <tr style=\"text-align: right;\">\n",
              "      <th></th>\n",
              "      <th>value</th>\n",
              "      <th>comment</th>\n",
              "    </tr>\n",
              "  </thead>\n",
              "  <tbody>\n",
              "    <tr>\n",
              "      <th>iou_mean_precision</th>\n",
              "      <td>1.000000</td>\n",
              "      <td>eveluation_mannual_annotations</td>\n",
              "    </tr>\n",
              "    <tr>\n",
              "      <th>iou_mean_recall</th>\n",
              "      <td>1.000000</td>\n",
              "      <td>eveluation_mannual_annotations</td>\n",
              "    </tr>\n",
              "    <tr>\n",
              "      <th>iou_mean_f1_score</th>\n",
              "      <td>1.000000</td>\n",
              "      <td>eveluation_mannual_annotations</td>\n",
              "    </tr>\n",
              "    <tr>\n",
              "      <th>iou_mean_iou_mean</th>\n",
              "      <td>0.939868</td>\n",
              "      <td>eveluation_mannual_annotations</td>\n",
              "    </tr>\n",
              "    <tr>\n",
              "      <th>iou_mean_pores_diff</th>\n",
              "      <td>0.000000</td>\n",
              "      <td>eveluation_mannual_annotations</td>\n",
              "    </tr>\n",
              "    <tr>\n",
              "      <th>iou_precision_micro</th>\n",
              "      <td>1.000000</td>\n",
              "      <td>eveluation_mannual_annotations</td>\n",
              "    </tr>\n",
              "    <tr>\n",
              "      <th>iou_recall_micro</th>\n",
              "      <td>1.000000</td>\n",
              "      <td>eveluation_mannual_annotations</td>\n",
              "    </tr>\n",
              "    <tr>\n",
              "      <th>iou_f1_micro</th>\n",
              "      <td>1.000000</td>\n",
              "      <td>eveluation_mannual_annotations</td>\n",
              "    </tr>\n",
              "    <tr>\n",
              "      <th>boundary_score_mean_precision</th>\n",
              "      <td>0.923976</td>\n",
              "      <td>eveluation_mannual_annotations</td>\n",
              "    </tr>\n",
              "    <tr>\n",
              "      <th>boundary_score_mean_recall</th>\n",
              "      <td>0.995515</td>\n",
              "      <td>eveluation_mannual_annotations</td>\n",
              "    </tr>\n",
              "    <tr>\n",
              "      <th>boundary_score_mean_f1</th>\n",
              "      <td>0.958248</td>\n",
              "      <td>eveluation_mannual_annotations</td>\n",
              "    </tr>\n",
              "  </tbody>\n",
              "</table>\n",
              "</div>\n",
              "    <div class=\"colab-df-buttons\">\n",
              "\n",
              "  <div class=\"colab-df-container\">\n",
              "    <button class=\"colab-df-convert\" onclick=\"convertToInteractive('df-63cc8443-d6e5-4878-99e4-5457bbf49980')\"\n",
              "            title=\"Convert this dataframe to an interactive table.\"\n",
              "            style=\"display:none;\">\n",
              "\n",
              "  <svg xmlns=\"http://www.w3.org/2000/svg\" height=\"24px\" viewBox=\"0 -960 960 960\">\n",
              "    <path d=\"M120-120v-720h720v720H120Zm60-500h600v-160H180v160Zm220 220h160v-160H400v160Zm0 220h160v-160H400v160ZM180-400h160v-160H180v160Zm440 0h160v-160H620v160ZM180-180h160v-160H180v160Zm440 0h160v-160H620v160Z\"/>\n",
              "  </svg>\n",
              "    </button>\n",
              "\n",
              "  <style>\n",
              "    .colab-df-container {\n",
              "      display:flex;\n",
              "      gap: 12px;\n",
              "    }\n",
              "\n",
              "    .colab-df-convert {\n",
              "      background-color: #E8F0FE;\n",
              "      border: none;\n",
              "      border-radius: 50%;\n",
              "      cursor: pointer;\n",
              "      display: none;\n",
              "      fill: #1967D2;\n",
              "      height: 32px;\n",
              "      padding: 0 0 0 0;\n",
              "      width: 32px;\n",
              "    }\n",
              "\n",
              "    .colab-df-convert:hover {\n",
              "      background-color: #E2EBFA;\n",
              "      box-shadow: 0px 1px 2px rgba(60, 64, 67, 0.3), 0px 1px 3px 1px rgba(60, 64, 67, 0.15);\n",
              "      fill: #174EA6;\n",
              "    }\n",
              "\n",
              "    .colab-df-buttons div {\n",
              "      margin-bottom: 4px;\n",
              "    }\n",
              "\n",
              "    [theme=dark] .colab-df-convert {\n",
              "      background-color: #3B4455;\n",
              "      fill: #D2E3FC;\n",
              "    }\n",
              "\n",
              "    [theme=dark] .colab-df-convert:hover {\n",
              "      background-color: #434B5C;\n",
              "      box-shadow: 0px 1px 3px 1px rgba(0, 0, 0, 0.15);\n",
              "      filter: drop-shadow(0px 1px 2px rgba(0, 0, 0, 0.3));\n",
              "      fill: #FFFFFF;\n",
              "    }\n",
              "  </style>\n",
              "\n",
              "    <script>\n",
              "      const buttonEl =\n",
              "        document.querySelector('#df-63cc8443-d6e5-4878-99e4-5457bbf49980 button.colab-df-convert');\n",
              "      buttonEl.style.display =\n",
              "        google.colab.kernel.accessAllowed ? 'block' : 'none';\n",
              "\n",
              "      async function convertToInteractive(key) {\n",
              "        const element = document.querySelector('#df-63cc8443-d6e5-4878-99e4-5457bbf49980');\n",
              "        const dataTable =\n",
              "          await google.colab.kernel.invokeFunction('convertToInteractive',\n",
              "                                                    [key], {});\n",
              "        if (!dataTable) return;\n",
              "\n",
              "        const docLinkHtml = 'Like what you see? Visit the ' +\n",
              "          '<a target=\"_blank\" href=https://colab.research.google.com/notebooks/data_table.ipynb>data table notebook</a>'\n",
              "          + ' to learn more about interactive tables.';\n",
              "        element.innerHTML = '';\n",
              "        dataTable['output_type'] = 'display_data';\n",
              "        await google.colab.output.renderOutput(dataTable, element);\n",
              "        const docLink = document.createElement('div');\n",
              "        docLink.innerHTML = docLinkHtml;\n",
              "        element.appendChild(docLink);\n",
              "      }\n",
              "    </script>\n",
              "  </div>\n",
              "\n",
              "\n",
              "    <div id=\"df-2f37d72d-e0cb-42a4-86c2-46da4598ff73\">\n",
              "      <button class=\"colab-df-quickchart\" onclick=\"quickchart('df-2f37d72d-e0cb-42a4-86c2-46da4598ff73')\"\n",
              "                title=\"Suggest charts\"\n",
              "                style=\"display:none;\">\n",
              "\n",
              "<svg xmlns=\"http://www.w3.org/2000/svg\" height=\"24px\"viewBox=\"0 0 24 24\"\n",
              "     width=\"24px\">\n",
              "    <g>\n",
              "        <path d=\"M19 3H5c-1.1 0-2 .9-2 2v14c0 1.1.9 2 2 2h14c1.1 0 2-.9 2-2V5c0-1.1-.9-2-2-2zM9 17H7v-7h2v7zm4 0h-2V7h2v10zm4 0h-2v-4h2v4z\"/>\n",
              "    </g>\n",
              "</svg>\n",
              "      </button>\n",
              "\n",
              "<style>\n",
              "  .colab-df-quickchart {\n",
              "      --bg-color: #E8F0FE;\n",
              "      --fill-color: #1967D2;\n",
              "      --hover-bg-color: #E2EBFA;\n",
              "      --hover-fill-color: #174EA6;\n",
              "      --disabled-fill-color: #AAA;\n",
              "      --disabled-bg-color: #DDD;\n",
              "  }\n",
              "\n",
              "  [theme=dark] .colab-df-quickchart {\n",
              "      --bg-color: #3B4455;\n",
              "      --fill-color: #D2E3FC;\n",
              "      --hover-bg-color: #434B5C;\n",
              "      --hover-fill-color: #FFFFFF;\n",
              "      --disabled-bg-color: #3B4455;\n",
              "      --disabled-fill-color: #666;\n",
              "  }\n",
              "\n",
              "  .colab-df-quickchart {\n",
              "    background-color: var(--bg-color);\n",
              "    border: none;\n",
              "    border-radius: 50%;\n",
              "    cursor: pointer;\n",
              "    display: none;\n",
              "    fill: var(--fill-color);\n",
              "    height: 32px;\n",
              "    padding: 0;\n",
              "    width: 32px;\n",
              "  }\n",
              "\n",
              "  .colab-df-quickchart:hover {\n",
              "    background-color: var(--hover-bg-color);\n",
              "    box-shadow: 0 1px 2px rgba(60, 64, 67, 0.3), 0 1px 3px 1px rgba(60, 64, 67, 0.15);\n",
              "    fill: var(--button-hover-fill-color);\n",
              "  }\n",
              "\n",
              "  .colab-df-quickchart-complete:disabled,\n",
              "  .colab-df-quickchart-complete:disabled:hover {\n",
              "    background-color: var(--disabled-bg-color);\n",
              "    fill: var(--disabled-fill-color);\n",
              "    box-shadow: none;\n",
              "  }\n",
              "\n",
              "  .colab-df-spinner {\n",
              "    border: 2px solid var(--fill-color);\n",
              "    border-color: transparent;\n",
              "    border-bottom-color: var(--fill-color);\n",
              "    animation:\n",
              "      spin 1s steps(1) infinite;\n",
              "  }\n",
              "\n",
              "  @keyframes spin {\n",
              "    0% {\n",
              "      border-color: transparent;\n",
              "      border-bottom-color: var(--fill-color);\n",
              "      border-left-color: var(--fill-color);\n",
              "    }\n",
              "    20% {\n",
              "      border-color: transparent;\n",
              "      border-left-color: var(--fill-color);\n",
              "      border-top-color: var(--fill-color);\n",
              "    }\n",
              "    30% {\n",
              "      border-color: transparent;\n",
              "      border-left-color: var(--fill-color);\n",
              "      border-top-color: var(--fill-color);\n",
              "      border-right-color: var(--fill-color);\n",
              "    }\n",
              "    40% {\n",
              "      border-color: transparent;\n",
              "      border-right-color: var(--fill-color);\n",
              "      border-top-color: var(--fill-color);\n",
              "    }\n",
              "    60% {\n",
              "      border-color: transparent;\n",
              "      border-right-color: var(--fill-color);\n",
              "    }\n",
              "    80% {\n",
              "      border-color: transparent;\n",
              "      border-right-color: var(--fill-color);\n",
              "      border-bottom-color: var(--fill-color);\n",
              "    }\n",
              "    90% {\n",
              "      border-color: transparent;\n",
              "      border-bottom-color: var(--fill-color);\n",
              "    }\n",
              "  }\n",
              "</style>\n",
              "\n",
              "      <script>\n",
              "        async function quickchart(key) {\n",
              "          const quickchartButtonEl =\n",
              "            document.querySelector('#' + key + ' button');\n",
              "          quickchartButtonEl.disabled = true;  // To prevent multiple clicks.\n",
              "          quickchartButtonEl.classList.add('colab-df-spinner');\n",
              "          try {\n",
              "            const charts = await google.colab.kernel.invokeFunction(\n",
              "                'suggestCharts', [key], {});\n",
              "          } catch (error) {\n",
              "            console.error('Error during call to suggestCharts:', error);\n",
              "          }\n",
              "          quickchartButtonEl.classList.remove('colab-df-spinner');\n",
              "          quickchartButtonEl.classList.add('colab-df-quickchart-complete');\n",
              "        }\n",
              "        (() => {\n",
              "          let quickchartButtonEl =\n",
              "            document.querySelector('#df-2f37d72d-e0cb-42a4-86c2-46da4598ff73 button');\n",
              "          quickchartButtonEl.style.display =\n",
              "            google.colab.kernel.accessAllowed ? 'block' : 'none';\n",
              "        })();\n",
              "      </script>\n",
              "    </div>\n",
              "\n",
              "    </div>\n",
              "  </div>\n"
            ],
            "application/vnd.google.colaboratory.intrinsic+json": {
              "type": "dataframe",
              "summary": "{\n  \"name\": \")\",\n  \"rows\": 11,\n  \"fields\": [\n    {\n      \"column\": \"value\",\n      \"properties\": {\n        \"dtype\": \"number\",\n        \"std\": 0.2973319776799413,\n        \"min\": 0.0,\n        \"max\": 1.0,\n        \"num_unique_values\": 6,\n        \"samples\": [\n          1.0,\n          0.9398682713508606,\n          0.9582476372885432\n        ],\n        \"semantic_type\": \"\",\n        \"description\": \"\"\n      }\n    },\n    {\n      \"column\": \"comment\",\n      \"properties\": {\n        \"dtype\": \"category\",\n        \"num_unique_values\": 1,\n        \"samples\": [\n          \"eveluation_mannual_annotations\"\n        ],\n        \"semantic_type\": \"\",\n        \"description\": \"\"\n      }\n    }\n  ]\n}"
            }
          },
          "metadata": {},
          "execution_count": 113
        }
      ]
    }
  ]
}